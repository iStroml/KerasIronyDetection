{
 "cells": [
  {
   "cell_type": "code",
   "execution_count": 5,
   "metadata": {
    "collapsed": true
   },
   "outputs": [
    {
     "ename": "ImportError",
     "evalue": "No module named pandas",
     "traceback": [
      "\u001b[0;31m---------------------------------------------------------------------------\u001b[0m",
      "\u001b[0;31mImportError\u001b[0m                               Traceback (most recent call last)",
      "\u001b[0;32m<ipython-input-5-72aea94ec5b3>\u001b[0m in \u001b[0;36m<module>\u001b[0;34m()\u001b[0m\n\u001b[0;32m----> 1\u001b[0;31m \u001b[0;32mimport\u001b[0m \u001b[0mpandas\u001b[0m \u001b[0;32mas\u001b[0m \u001b[0mpd\u001b[0m\u001b[0;34m\u001b[0m\u001b[0m\n\u001b[0m\u001b[1;32m      2\u001b[0m \u001b[0;32mimport\u001b[0m \u001b[0mre\u001b[0m\u001b[0;34m\u001b[0m\u001b[0m\n\u001b[1;32m      3\u001b[0m \u001b[0;34m\u001b[0m\u001b[0m\n\u001b[1;32m      4\u001b[0m \u001b[0;34m\u001b[0m\u001b[0m\n\u001b[1;32m      5\u001b[0m \u001b[0;32mdef\u001b[0m \u001b[0mload_file\u001b[0m\u001b[0;34m(\u001b[0m\u001b[0mfilename\u001b[0m\u001b[0;34m)\u001b[0m\u001b[0;34m:\u001b[0m\u001b[0;34m\u001b[0m\u001b[0m\n",
      "\u001b[0;31mImportError\u001b[0m: No module named pandas"
     ],
     "output_type": "error"
    }
   ],
   "source": [
    "import pandas as pd\n",
    "import re\n",
    "\n",
    "\n",
    "def load_file(filename):\n",
    "    data = pd.DataFrame()\n",
    "    filetype = filename.split(\".\")[-1]\n",
    "\n",
    "    # Parsing txt file\n",
    "    if filetype == \"txt\":\n",
    "        parsed_data = {'comment_text': [], 'label': []}\n",
    "        with open(filename, 'rt') as data_in:\n",
    "            for line in data_in:\n",
    "                # Skip first line\n",
    "                if not line.lower().startswith(\"tweet index\"):\n",
    "                    line = line.rstrip()\n",
    "                    label = int(line.split(\"\\t\")[1].replace(\"0\", \"-1\"))\n",
    "                    tweet = line.split(\"\\t\")[2]\n",
    "                    parsed_data['comment_text'].append(tweet)\n",
    "                    parsed_data['label'].append(label)\n",
    "\n",
    "        data = pd.DataFrame(data=parsed_data)\n",
    "        for idx, row in data.iterrows():\n",
    "            row[0] = row[0].replace('rt', ' ')\n",
    "\n",
    "    # Parsing csv file with panda\n",
    "    elif filetype == \"csv\":\n",
    "        # Importing CSV from Kaeggle, Labled -1 for non ironic and 1 for ironic text\n",
    "        data = pd.read_csv('data/irony/kaggle-irony-labeled.csv')\n",
    "        data = data[['comment_text', 'label']]  # Headline in CSV Document\n",
    "\n",
    "    # simple preprocessing\n",
    "    data['comment_text'] = data['comment_text'].apply(lambda x: x.lower())\n",
    "    data['comment_text'] = data['comment_text'].apply((lambda x: re.sub('[^a-zA-z0-9\\s]', '', x)))\n",
    "\n",
    "    ironic_posts = 0\n",
    "    non_ironic_posts = 0\n",
    "    for label in data['label']:\n",
    "        if label == 1:\n",
    "            ironic_posts += 1\n",
    "        else:\n",
    "            non_ironic_posts += 1\n",
    "\n",
    "    print(\"Non ironic posts: \" + str(non_ironic_posts))\n",
    "    print(\"Ironic posts: \" + str(ironic_posts))\n",
    "\n",
    "    return data\n",
    "\n",
    "\n",
    "dataset_kaggle = load_file(\"data/irony/kaggle-irony-labeled.csv\")\n",
    "print(dataset_kaggle)\n",
    "dataset_semeval = load_file(\"data/irony/SemEval2018-T3-train-taskA.txt\")\n",
    "print(dataset_semeval)\n",
    "\n"
   ]
  },
  {
   "cell_type": "code",
   "execution_count": null,
   "metadata": {},
   "outputs": [],
   "source": []
  }
 ],
 "metadata": {
  "kernelspec": {
   "display_name": "Python 2",
   "language": "python",
   "name": "python2"
  },
  "language_info": {
   "codemirror_mode": {
    "name": "ipython",
    "version": 2
   },
   "file_extension": ".py",
   "mimetype": "text/x-python",
   "name": "python",
   "nbconvert_exporter": "python",
   "pygments_lexer": "ipython2",
   "version": "2.7.6"
  }
 },
 "nbformat": 4,
 "nbformat_minor": 0
}
